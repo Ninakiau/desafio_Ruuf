{
 "cells": [
  {
   "cell_type": "code",
   "execution_count": 66,
   "metadata": {},
   "outputs": [
    {
     "name": "stdout",
     "output_type": "stream",
     "text": [
      "Paneles 1x2 y techo 2x4 ⇒ Caben 4 : y la respuesta es:  4\n",
      "Paneles 1x2 y techo 3x5 ⇒ Caben 7 y la respuesta es: 7\n",
      "Paneles 2x2 y techo 1x10 ⇒ Caben 0 y la respuesta es: Los paneles no caben en el techo rectangular\n"
     ]
    }
   ],
   "source": [
    "import math\n",
    "\n",
    "def calculate_how_many_rectangles(roof_length, roof_width, rectangle_length, rectangle_width):\n",
    "    if any(val <= 0 for val in [roof_length, roof_width, rectangle_length, rectangle_width]):\n",
    "        return \"Todos los valores deben ser positivos\"\n",
    "    \n",
    "    if max(rectangle_length, rectangle_width) > max(roof_length, roof_width) or min(rectangle_length, rectangle_width) > min(roof_length, roof_width):\n",
    "        return \"Los paneles no caben en el techo rectangular\"\n",
    "    else:\n",
    "        return math.trunc((roof_length * roof_width) / (rectangle_length * rectangle_width))\n",
    "        \n",
    "# C A S O S   D E   P R U E B A \n",
    "\n",
    "# Paneles 1x2 y techo 2x4 ⇒ Caben 4\n",
    "print(f\"Paneles 1x2 y techo 2x4 ⇒ Caben 4 : y la respuesta es:  {calculate_how_many_rectangles(2, 4, 1, 2)}\")\n",
    "# Paneles 1x2 y techo 3x5 ⇒ Caben 7\n",
    "print(f\"Paneles 1x2 y techo 3x5 ⇒ Caben 7 y la respuesta es: {calculate_how_many_rectangles(3, 5, 1, 2)}\")\n",
    "# Paneles 2x2 y techo 1x10 ⇒ Caben 0\n",
    "print(f\"Paneles 2x2 y techo 1x10 ⇒ Caben 0 y la respuesta es: {calculate_how_many_rectangles(1, 10, 2, 2)}\")\n"
   ]
  },
  {
   "cell_type": "code",
   "execution_count": 67,
   "metadata": {},
   "outputs": [
    {
     "name": "stdout",
     "output_type": "stream",
     "text": [
      "{'Paneles horizontales': 45, 'Paneles verticales': 42, 'Orientación óptima': 'Horizontal', 'Número máximo de paneles': 45}\n",
      "{'Paneles horizontales': 14, 'Paneles verticales': 12, 'Orientación óptima': 'Horizontal', 'Número máximo de paneles': 14}\n"
     ]
    }
   ],
   "source": [
    "def calculate_panels_in_triangle(roof_height, roof_width, panel_length, panel_width):\n",
    "    # Validar que los parámetros de entrada sean positivos\n",
    "    if any(val <= 0 for val in [roof_height, roof_width, panel_length, panel_width]):\n",
    "        return \"Todos los valores deben ser positivos\"\n",
    "    \n",
    "    # Verificar que los paneles no sean más grandes que el techo\n",
    "    if max(panel_length, panel_width) > max(roof_height, roof_width):\n",
    "        return \"Los paneles no pueden instalarse en el techo triangular\"\n",
    "    \n",
    "    def count_panels_in_orientation(length, width):\n",
    "        \"\"\"\n",
    "        Calcular paneles en una orientación específica\n",
    "        length: dimensión más larga del panel\n",
    "        width: dimensión más corta del panel\n",
    "        \"\"\"\n",
    "        panels_total = 0\n",
    "        # Determina cuantas filas de paneles caben en la altura del triángulo\n",
    "        max_vertical_panels = int(roof_height // length) + 1\n",
    "        \n",
    "        for row in range(max_vertical_panels):\n",
    "            # Calcular la longitud de la base del trapecio en la posición actual\n",
    "            current_base_width = roof_width * (1 - ((row + 1) * length / roof_height))\n",
    "            \n",
    "            # Determinar cuántos paneles pueden colocarse horizontalmente en esta base\n",
    "            panels_in_row = math.trunc(current_base_width / width)\n",
    "            panels_total += panels_in_row\n",
    "        \n",
    "        return panels_total\n",
    "    \n",
    "    # Calcular paneles en ambas orientaciones\n",
    "    panels_horizontal = count_panels_in_orientation(panel_length, panel_width)\n",
    "    panels_vertical = count_panels_in_orientation(panel_width, panel_length)\n",
    "    \n",
    "    # Devolver la orientación con más paneles\n",
    "    return {\n",
    "        \"Paneles horizontales\": panels_horizontal,\n",
    "        \"Paneles verticales\": panels_vertical,\n",
    "        \"Orientación óptima\": \"Horizontal\" if panels_horizontal >= panels_vertical else \"Vertical\",\n",
    "        \"Número máximo de paneles\": max(panels_horizontal, panels_vertical)\n",
    "    }\n",
    "\n",
    "# Ejemplos de uso\n",
    "print(calculate_panels_in_triangle(22, 10, 2, 1))\n",
    "print(calculate_panels_in_triangle(8, 10, 1, 2))"
   ]
  }
 ],
 "metadata": {
  "kernelspec": {
   "display_name": "Python 3",
   "language": "python",
   "name": "python3"
  },
  "language_info": {
   "codemirror_mode": {
    "name": "ipython",
    "version": 3
   },
   "file_extension": ".py",
   "mimetype": "text/x-python",
   "name": "python",
   "nbconvert_exporter": "python",
   "pygments_lexer": "ipython3",
   "version": "3.12.2"
  }
 },
 "nbformat": 4,
 "nbformat_minor": 2
}
